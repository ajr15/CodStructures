{
 "cells": [
  {
   "cell_type": "code",
   "execution_count": 1,
   "metadata": {},
   "outputs": [],
   "source": [
    "# environment setup\n",
    "from matplotlib import pyplot as plt\n",
    "import pandas as pd\n",
    "from openbabel import openbabel as ob\n",
    "from scipy.stats import norm, linregress\n",
    "import numpy as np\n",
    "import sys; sys.path.append(\"/home/shachar/repos/miscellaneous/CodStructures/\")\n",
    "import utils\n",
    "from featurizers import StructurePropertyFeaturizer\n",
    "from read_to_sql import StructureProperty, Substituent\n",
    "# creating session with SQL database\n",
    "from sqlalchemy import create_engine\n",
    "from sqlalchemy.orm import sessionmaker\n",
    "engine = create_engine(\"sqlite:///{}\".format(\"/home/shachar/repos/miscellaneous/CodStructures/main.db\"))\n",
    "session = sessionmaker(bind=engine)()\n",
    "utils.define_pallet()"
   ]
  },
  {
   "cell_type": "code",
   "execution_count": 2,
   "metadata": {},
   "outputs": [],
   "source": [
    "# setting up important global variables & functions\n",
    "\n",
    "def non_planarity_modes(session):\n",
    "    names = session.query(StructureProperty.property).distinct().all()\n",
    "    return [x[0] for x in names if \"non planarity\" in x[0]]\n",
    "\n",
    "def homa_properties(session, target=\"homa\"):\n",
    "    names = session.query(StructureProperty.property).filter(StructureProperty.source == \"homa\").distinct().all()\n",
    "    return [x[0] for x in names if target in x[0]]\n",
    "\n",
    "def homa_values_df(session, sids, target, avg_pyrroles):\n",
    "    # reading the data from SQL\n",
    "    homa_props = homa_properties(session, target=target)\n",
    "    homa_df = StructurePropertyFeaturizer(session, sids, homa_props, property_units=None)\n",
    "    homa_df.columns = [c.split()[0] for c in homa_df.columns]\n",
    "    if avg_pyrroles:\n",
    "        # adding column of average pyrrole HOMA score\n",
    "        pyrrole_cols = [c for c in homa_df.columns if \"pyrrole\" in c]\n",
    "        homa_df[\"pyrrole\"] = homa_df[pyrrole_cols].mean(axis=1)\n",
    "        # removing all other pyrrole columns\n",
    "        homa_df = homa_df[[c for c in homa_df.columns if not c in pyrrole_cols]]\n",
    "    return homa_df\n",
    "\n",
    "def non_planarity_df(session, sids, units, add_total_non_planarity):\n",
    "    # reading the data\n",
    "    modes = non_planarity_modes(session)\n",
    "    # removing wavingy2 mode as it exists only in corroles\n",
    "    modes.remove(\"wavingy2 non planarity\")\n",
    "    mode_units = [units for _ in range(len(modes))]\n",
    "    if add_total_non_planarity:\n",
    "        modes.append(\"total out of plane (exp)\")\n",
    "        mode_units.append(\"A\")\n",
    "    non_planarity_df = StructurePropertyFeaturizer(session, sids, modes, mode_units).to_dataframe()\n",
    "    non_planarity_df.columns = [c.split()[0] for c in non_planarity_df.columns]\n",
    "    return non_planarity_df\n",
    "\n",
    "def scatter_plot(x, y, ax=None, xname=None, yname=None, add_fitted_line=False, add_ideal_line=False, label=None):\n",
    "    if ax is None:\n",
    "        ax = plt.gca()\n",
    "    ax.scatter(x, y, label=label)\n",
    "    if xname is not None:\n",
    "        ax.set_xlabel(xname)\n",
    "    if yname is not None:\n",
    "        ax.set_ylabel(yname)\n",
    "    if add_fitted_line:\n",
    "        a, b = np.polyfit(x, y, deg=1)\n",
    "        fitted_x = [min(x), max(x)]\n",
    "        fitted_y = [a * v + b for v in fitted_x]\n",
    "        ax.plot(fitted_x, fitted_y, \"r--\")\n",
    "    if add_ideal_line:\n",
    "        fitted_x = [min(x), max(x)]\n",
    "        ax.plot(fitted_x, fitted_x, \"r--\")\n",
    "\n",
    "def p_value(sample_data, population_data):\n",
    "    \"\"\"Calculate the p-value of sample from normal distribution. calculates the probability that the mean difference between the sample and the population is at least as large as measured.\"\"\"\n",
    "    sample_mean = np.mean(sample_data)\n",
    "    population_mean = np.mean(population_data)\n",
    "    population_std = np.std(population_data)\n",
    "    N = len(sample_data)\n",
    "    statistic = abs((sample_mean - population_mean) / (population_std / np.sqrt(N)))\n",
    "    return 2 * norm(0, 1).sf(statistic)\n",
    "\n",
    "def metal_radius(session, sid: int):\n",
    "    \"\"\"Get the VDW radius of the metal center\"\"\"\n",
    "    metal = session.query(Substituent.substituent).filter(Substituent.structure == sid).filter(Substituent.position == \"metal\").all()[0][0]\n",
    "    metal = utils.mol_from_smiles(metal).GetAtom(1)\n",
    "    return [ob.GetVdwRad(metal.GetAtomicNum())]\n"
   ]
  },
  {
   "attachments": {},
   "cell_type": "markdown",
   "metadata": {},
   "source": [
    "# Basic analysis"
   ]
  },
  {
   "cell_type": "code",
   "execution_count": 3,
   "metadata": {},
   "outputs": [],
   "source": [
    "# deciding the type of structures to analyze\n",
    "sids = utils.sids_by_type(session, \"all\")"
   ]
  },
  {
   "cell_type": "code",
   "execution_count": 4,
   "metadata": {},
   "outputs": [
    {
     "ename": "TypeError",
     "evalue": "StructurePropertyFeaturizer.__init__() got multiple values for argument 'property_units'",
     "output_type": "error",
     "traceback": [
      "\u001b[0;31m---------------------------------------------------------------------------\u001b[0m",
      "\u001b[0;31mTypeError\u001b[0m                                 Traceback (most recent call last)",
      "Cell \u001b[0;32mIn[4], line 3\u001b[0m\n\u001b[1;32m      1\u001b[0m por_sids \u001b[39m=\u001b[39m utils\u001b[39m.\u001b[39msids_by_type(session, \u001b[39m\"\u001b[39m\u001b[39mporphyrin\u001b[39m\u001b[39m\"\u001b[39m)\n\u001b[1;32m      2\u001b[0m cor_sids \u001b[39m=\u001b[39m utils\u001b[39m.\u001b[39msids_by_type(session, \u001b[39m\"\u001b[39m\u001b[39mcorrole\u001b[39m\u001b[39m\"\u001b[39m)\n\u001b[0;32m----> 3\u001b[0m cor_homa \u001b[39m=\u001b[39m homa_values_df(session, cor_sids, \u001b[39m\"\u001b[39m\u001b[39mhoma\u001b[39m\u001b[39m\"\u001b[39m, \u001b[39mTrue\u001b[39;00m)\n\u001b[1;32m      4\u001b[0m cor_en \u001b[39m=\u001b[39m homa_values_df(session, cor_sids, \u001b[39m\"\u001b[39m\u001b[39men\u001b[39m\u001b[39m\"\u001b[39m, \u001b[39mTrue\u001b[39;00m)\n\u001b[1;32m      5\u001b[0m cor_geo \u001b[39m=\u001b[39m homa_values_df(session, cor_sids, \u001b[39m\"\u001b[39m\u001b[39mgeo\u001b[39m\u001b[39m\"\u001b[39m, \u001b[39mTrue\u001b[39;00m)\n",
      "Cell \u001b[0;32mIn[2], line 15\u001b[0m, in \u001b[0;36mhoma_values_df\u001b[0;34m(session, sids, target, avg_pyrroles)\u001b[0m\n\u001b[1;32m     13\u001b[0m homa_props \u001b[39m=\u001b[39m homa_properties(session, target\u001b[39m=\u001b[39mtarget)\n\u001b[1;32m     14\u001b[0m units \u001b[39m=\u001b[39m [\u001b[39mNone\u001b[39;00m \u001b[39mfor\u001b[39;00m _ \u001b[39min\u001b[39;00m \u001b[39mrange\u001b[39m(\u001b[39mlen\u001b[39m(homa_props))]\n\u001b[0;32m---> 15\u001b[0m homa_df \u001b[39m=\u001b[39m StructurePropertyFeaturizer(session, sids, homa_props, property_units\u001b[39m=\u001b[39munits)\u001b[39m.\u001b[39mto_dataframe()\n\u001b[1;32m     16\u001b[0m homa_df\u001b[39m.\u001b[39mcolumns \u001b[39m=\u001b[39m [c\u001b[39m.\u001b[39msplit()[\u001b[39m0\u001b[39m] \u001b[39mfor\u001b[39;00m c \u001b[39min\u001b[39;00m homa_df\u001b[39m.\u001b[39mcolumns]\n\u001b[1;32m     17\u001b[0m \u001b[39mif\u001b[39;00m avg_pyrroles:\n\u001b[1;32m     18\u001b[0m     \u001b[39m# adding column of average pyrrole HOMA score\u001b[39;00m\n",
      "\u001b[0;31mTypeError\u001b[0m: StructurePropertyFeaturizer.__init__() got multiple values for argument 'property_units'"
     ]
    }
   ],
   "source": [
    "por_sids = utils.sids_by_type(session, \"porphyrin\")\n",
    "cor_sids = utils.sids_by_type(session, \"corrole\")\n",
    "cor_homa = homa_values_df(session, cor_sids, \"homa\", True)\n",
    "cor_en = homa_values_df(session, cor_sids, \"en\", True)\n",
    "cor_geo = homa_values_df(session, cor_sids, \"geo\", True)\n",
    "por_homa = homa_values_df(session, por_sids, \"homa\", True)\n",
    "por_en = homa_values_df(session, por_sids, \"en\", True)\n",
    "por_geo = homa_values_df(session, por_sids, \"geo\", True)"
   ]
  },
  {
   "cell_type": "code",
   "execution_count": 5,
   "metadata": {},
   "outputs": [
    {
     "name": "stderr",
     "output_type": "stream",
     "text": [
      "findfont: Font family 'Arial' not found.\n",
      "findfont: Font family 'Arial' not found.\n",
      "findfont: Font family 'Arial' not found.\n",
      "findfont: Font family 'Arial' not found.\n",
      "findfont: Font family 'Arial' not found.\n",
      "findfont: Font family 'Arial' not found.\n",
      "findfont: Font family 'Arial' not found.\n",
      "findfont: Font family 'Arial' not found.\n",
      "findfont: Font family 'Arial' not found.\n",
      "findfont: Font family 'Arial' not found.\n",
      "findfont: Font family 'Arial' not found.\n",
      "findfont: Font family 'Arial' not found.\n"
     ]
    },
    {
     "ename": "NameError",
     "evalue": "name 'por_homa' is not defined",
     "output_type": "error",
     "traceback": [
      "\u001b[0;31m---------------------------------------------------------------------------\u001b[0m",
      "\u001b[0;31mNameError\u001b[0m                                 Traceback (most recent call last)",
      "Cell \u001b[0;32mIn[5], line 3\u001b[0m\n\u001b[1;32m      1\u001b[0m fig, axs \u001b[39m=\u001b[39m plt\u001b[39m.\u001b[39msubplots(ncols\u001b[39m=\u001b[39m\u001b[39m3\u001b[39m, figsize\u001b[39m=\u001b[39m(\u001b[39m10\u001b[39m, \u001b[39m5\u001b[39m))\n\u001b[1;32m      2\u001b[0m fig\u001b[39m.\u001b[39mtight_layout()\n\u001b[0;32m----> 3\u001b[0m \u001b[39mfor\u001b[39;00m i, c \u001b[39min\u001b[39;00m \u001b[39menumerate\u001b[39m(por_homa\u001b[39m.\u001b[39mcolumns):\n\u001b[1;32m      4\u001b[0m     axs[i]\u001b[39m.\u001b[39mhist(por_homa[c], density\u001b[39m=\u001b[39m\u001b[39mTrue\u001b[39;00m, alpha\u001b[39m=\u001b[39m\u001b[39m0.7\u001b[39m, label\u001b[39m=\u001b[39m\u001b[39m\"\u001b[39m\u001b[39mporphyrins\u001b[39m\u001b[39m\"\u001b[39m)\n\u001b[1;32m      5\u001b[0m     axs[i]\u001b[39m.\u001b[39mhist(cor_homa[c], density\u001b[39m=\u001b[39m\u001b[39mTrue\u001b[39;00m, alpha\u001b[39m=\u001b[39m\u001b[39m0.7\u001b[39m, label\u001b[39m=\u001b[39m\u001b[39m\"\u001b[39m\u001b[39mcorroles\u001b[39m\u001b[39m\"\u001b[39m)\n",
      "\u001b[0;31mNameError\u001b[0m: name 'por_homa' is not defined"
     ]
    },
    {
     "name": "stderr",
     "output_type": "stream",
     "text": [
      "findfont: Font family 'Arial' not found.\n",
      "findfont: Font family 'Arial' not found.\n",
      "findfont: Font family 'Arial' not found.\n",
      "findfont: Font family 'Arial' not found.\n",
      "findfont: Font family 'Arial' not found.\n",
      "findfont: Font family 'Arial' not found.\n",
      "findfont: Font family 'Arial' not found.\n",
      "findfont: Font family 'Arial' not found.\n",
      "findfont: Font family 'Arial' not found.\n",
      "findfont: Font family 'Arial' not found.\n",
      "findfont: Font family 'Arial' not found.\n",
      "findfont: Font family 'Arial' not found.\n",
      "findfont: Font family 'Arial' not found.\n",
      "findfont: Font family 'Arial' not found.\n",
      "findfont: Font family 'Arial' not found.\n",
      "findfont: Font family 'Arial' not found.\n",
      "findfont: Font family 'Arial' not found.\n",
      "findfont: Font family 'Arial' not found.\n",
      "findfont: Font family 'Arial' not found.\n",
      "findfont: Font family 'Arial' not found.\n",
      "findfont: Font family 'Arial' not found.\n",
      "findfont: Font family 'Arial' not found.\n",
      "findfont: Font family 'Arial' not found.\n",
      "findfont: Font family 'Arial' not found.\n",
      "findfont: Font family 'Arial' not found.\n",
      "findfont: Font family 'Arial' not found.\n",
      "findfont: Font family 'Arial' not found.\n",
      "findfont: Font family 'Arial' not found.\n",
      "findfont: Font family 'Arial' not found.\n",
      "findfont: Font family 'Arial' not found.\n",
      "findfont: Font family 'Arial' not found.\n",
      "findfont: Font family 'Arial' not found.\n",
      "findfont: Font family 'Arial' not found.\n",
      "findfont: Font family 'Arial' not found.\n",
      "findfont: Font family 'Arial' not found.\n",
      "findfont: Font family 'Arial' not found.\n",
      "findfont: Font family 'Arial' not found.\n",
      "findfont: Font family 'Arial' not found.\n",
      "findfont: Font family 'Arial' not found.\n",
      "findfont: Font family 'Arial' not found.\n",
      "findfont: Font family 'Arial' not found.\n",
      "findfont: Font family 'Arial' not found.\n",
      "findfont: Font family 'Arial' not found.\n",
      "findfont: Font family 'Arial' not found.\n",
      "findfont: Font family 'Arial' not found.\n",
      "findfont: Font family 'Arial' not found.\n",
      "findfont: Font family 'Arial' not found.\n",
      "findfont: Font family 'Arial' not found.\n",
      "findfont: Font family 'Arial' not found.\n",
      "findfont: Font family 'Arial' not found.\n",
      "findfont: Font family 'Arial' not found.\n",
      "findfont: Font family 'Arial' not found.\n",
      "findfont: Font family 'Arial' not found.\n",
      "findfont: Font family 'Arial' not found.\n",
      "findfont: Font family 'Arial' not found.\n",
      "findfont: Font family 'Arial' not found.\n",
      "findfont: Font family 'Arial' not found.\n",
      "findfont: Font family 'Arial' not found.\n",
      "findfont: Font family 'Arial' not found.\n",
      "findfont: Font family 'Arial' not found.\n",
      "findfont: Font family 'Arial' not found.\n",
      "findfont: Font family 'Arial' not found.\n",
      "findfont: Font family 'Arial' not found.\n",
      "findfont: Font family 'Arial' not found.\n",
      "findfont: Font family 'Arial' not found.\n",
      "findfont: Font family 'Arial' not found.\n",
      "findfont: Font family 'Arial' not found.\n",
      "findfont: Font family 'Arial' not found.\n",
      "findfont: Font family 'Arial' not found.\n",
      "findfont: Font family 'Arial' not found.\n",
      "findfont: Font family 'Arial' not found.\n",
      "findfont: Font family 'Arial' not found.\n",
      "findfont: Font family 'Arial' not found.\n",
      "findfont: Font family 'Arial' not found.\n",
      "findfont: Font family 'Arial' not found.\n",
      "findfont: Font family 'Arial' not found.\n",
      "findfont: Font family 'Arial' not found.\n",
      "findfont: Font family 'Arial' not found.\n",
      "findfont: Font family 'Arial' not found.\n"
     ]
    },
    {
     "data": {
      "image/png": "[encoded data removed]",
      "text/plain": [
       "<Figure size 1000x500 with 3 Axes>"
      ]
     },
     "metadata": {},
     "output_type": "display_data"
    }
   ],
   "source": [
    "fig, axs = plt.subplots(ncols=3, figsize=(10, 5))\n",
    "fig.tight_layout()\n",
    "for i, c in enumerate(por_homa.columns):\n",
    "    axs[i].hist(por_homa[c], density=True, alpha=0.7, label=\"porphyrins\")\n",
    "    axs[i].hist(cor_homa[c], density=True, alpha=0.7, label=\"corroles\")\n",
    "    axs[i].set_title(\" \".join(c.split(\"_\")).title())\n",
    "    axs[i].legend()"
   ]
  },
  {
   "cell_type": "code",
   "execution_count": null,
   "metadata": {},
   "outputs": [],
   "source": [
    "fig, axs = plt.subplots(nrows=2, ncols=3, figsize=(10, 5))\n",
    "fig.tight_layout()\n",
    "for i, c in enumerate(por_homa.columns):\n",
    "    axs[0, i].hist(por_en[c], density=True, alpha=0.7, label=\"porphyrins\")\n",
    "    axs[0, i].hist(cor_en[c], density=True, alpha=0.7, label=\"corroles\")\n",
    "    axs[0, i].set_title(\" \".join(c.split(\"_\")).title())\n",
    "    axs[0, i].legend()\n",
    "    axs[1, i].hist(por_geo[c], density=True, alpha=0.7, label=\"porphyrins\")\n",
    "    axs[1, i].hist(cor_geo[c], density=True, alpha=0.7, label=\"corroles\")\n",
    "    axs[1, i].legend()\n",
    "axs[0, 0].set_ylabel(\"EN\")\n",
    "axs[1, 0].set_ylabel(\"GEO\")"
   ]
  },
  {
   "attachments": {},
   "cell_type": "markdown",
   "metadata": {},
   "source": [
    "## HOMA\n",
    "Showing key statistics and analyzing the HOMA properties. HOMA consists of: pyrrole (1 to 4) score, inner ring score and outer ring score. Inner and out ring scores can be used as is, while the pyrrole scores are averaged"
   ]
  },
  {
   "cell_type": "code",
   "execution_count": 423,
   "metadata": {},
   "outputs": [],
   "source": [
    "# reading the data\n",
    "homa_df = homa_values_df(session, sids, \"homa\", True)\n",
    "en_df = homa_values_df(session, sids, \"en\", True)\n",
    "geo_df = homa_values_df(session, sids, \"geo\", True)"
   ]
  },
  {
   "cell_type": "code",
   "execution_count": null,
   "metadata": {},
   "outputs": [],
   "source": [
    "# scatter plots\n",
    "fig, axs = plt.subplots(nrows=2, ncols=3, figsize=(14, 7))\n",
    "fig.tight_layout()\n",
    "for i, c in enumerate(homa_df.columns):\n",
    "    scatter_plot(homa_df[c], en_df[c], ax=axs[0, i], add_fitted_line=True)\n",
    "    scatter_plot(homa_df[c], geo_df[c], ax=axs[1, i], add_fitted_line=True)\n",
    "    axs[0, i].set_title(\" \".join(c.split(\"_\")).title())\n",
    "    axs[1, i].set_xlabel(\"HOMA\")\n",
    "axs[0, 0].set_ylabel(\"EN\")\n",
    "axs[1, 0].set_ylabel(\"GEO\")"
   ]
  },
  {
   "attachments": {},
   "cell_type": "markdown",
   "metadata": {},
   "source": [
    "## Non-Planarity"
   ]
  },
  {
   "cell_type": "code",
   "execution_count": 9,
   "metadata": {},
   "outputs": [],
   "source": [
    "absolute_np = non_planarity_df(session, sids, \"A\", add_total_non_planarity=False)\n",
    "relative_np = non_planarity_df(session, sids, \"%\", add_total_non_planarity=True)"
   ]
  },
  {
   "cell_type": "code",
   "execution_count": 21,
   "metadata": {},
   "outputs": [
    {
     "data": {
      "text/html": [
       "<div>\n",
       "<style scoped>\n",
       "    .dataframe tbody tr th:only-of-type {\n",
       "        vertical-align: middle;\n",
       "    }\n",
       "\n",
       "    .dataframe tbody tr th {\n",
       "        vertical-align: top;\n",
       "    }\n",
       "\n",
       "    .dataframe thead th {\n",
       "        text-align: right;\n",
       "    }\n",
       "</style>\n",
       "<table border=\"1\" class=\"dataframe\">\n",
       "  <thead>\n",
       "    <tr style=\"text-align: right;\">\n",
       "      <th></th>\n",
       "      <th>doming</th>\n",
       "      <th>saddling</th>\n",
       "      <th>ruffling</th>\n",
       "      <th>wavingx</th>\n",
       "      <th>wavingy</th>\n",
       "      <th>propellering</th>\n",
       "      <th>doming2</th>\n",
       "      <th>saddling2</th>\n",
       "      <th>ruffling2</th>\n",
       "      <th>wavingx2</th>\n",
       "      <th>propellering2</th>\n",
       "      <th>total</th>\n",
       "    </tr>\n",
       "  </thead>\n",
       "  <tbody>\n",
       "    <tr>\n",
       "      <th>count</th>\n",
       "      <td>318.000000</td>\n",
       "      <td>318.000000</td>\n",
       "      <td>318.000000</td>\n",
       "      <td>318.000000</td>\n",
       "      <td>318.000000</td>\n",
       "      <td>318.000000</td>\n",
       "      <td>318.000000</td>\n",
       "      <td>318.000000</td>\n",
       "      <td>318.000000</td>\n",
       "      <td>318.000000</td>\n",
       "      <td>318.000000</td>\n",
       "      <td>318.000000</td>\n",
       "    </tr>\n",
       "    <tr>\n",
       "      <th>mean</th>\n",
       "      <td>12.577541</td>\n",
       "      <td>26.188418</td>\n",
       "      <td>18.195675</td>\n",
       "      <td>10.364771</td>\n",
       "      <td>8.578725</td>\n",
       "      <td>1.072165</td>\n",
       "      <td>7.074337</td>\n",
       "      <td>4.008179</td>\n",
       "      <td>2.862045</td>\n",
       "      <td>6.503505</td>\n",
       "      <td>1.562170</td>\n",
       "      <td>0.827577</td>\n",
       "    </tr>\n",
       "    <tr>\n",
       "      <th>std</th>\n",
       "      <td>13.973740</td>\n",
       "      <td>23.590289</td>\n",
       "      <td>21.011408</td>\n",
       "      <td>14.545347</td>\n",
       "      <td>11.670849</td>\n",
       "      <td>1.443447</td>\n",
       "      <td>6.876637</td>\n",
       "      <td>4.146813</td>\n",
       "      <td>2.752324</td>\n",
       "      <td>10.452066</td>\n",
       "      <td>2.719005</td>\n",
       "      <td>0.832264</td>\n",
       "    </tr>\n",
       "    <tr>\n",
       "      <th>min</th>\n",
       "      <td>0.000000</td>\n",
       "      <td>0.000000</td>\n",
       "      <td>0.000000</td>\n",
       "      <td>0.000000</td>\n",
       "      <td>0.000000</td>\n",
       "      <td>0.000000</td>\n",
       "      <td>0.000000</td>\n",
       "      <td>0.000000</td>\n",
       "      <td>0.000000</td>\n",
       "      <td>0.000000</td>\n",
       "      <td>0.000000</td>\n",
       "      <td>0.000000</td>\n",
       "    </tr>\n",
       "    <tr>\n",
       "      <th>25%</th>\n",
       "      <td>2.894912</td>\n",
       "      <td>3.333920</td>\n",
       "      <td>1.744726</td>\n",
       "      <td>1.598655</td>\n",
       "      <td>1.516364</td>\n",
       "      <td>0.075367</td>\n",
       "      <td>1.924317</td>\n",
       "      <td>0.619784</td>\n",
       "      <td>0.891453</td>\n",
       "      <td>0.846179</td>\n",
       "      <td>0.310113</td>\n",
       "      <td>0.224486</td>\n",
       "    </tr>\n",
       "    <tr>\n",
       "      <th>50%</th>\n",
       "      <td>6.754964</td>\n",
       "      <td>22.806726</td>\n",
       "      <td>10.252446</td>\n",
       "      <td>4.699550</td>\n",
       "      <td>4.243148</td>\n",
       "      <td>0.552859</td>\n",
       "      <td>5.150742</td>\n",
       "      <td>2.870491</td>\n",
       "      <td>2.188783</td>\n",
       "      <td>2.559135</td>\n",
       "      <td>0.731806</td>\n",
       "      <td>0.467829</td>\n",
       "    </tr>\n",
       "    <tr>\n",
       "      <th>75%</th>\n",
       "      <td>17.595387</td>\n",
       "      <td>46.640117</td>\n",
       "      <td>26.243055</td>\n",
       "      <td>11.758813</td>\n",
       "      <td>9.321229</td>\n",
       "      <td>1.438490</td>\n",
       "      <td>9.703525</td>\n",
       "      <td>6.101796</td>\n",
       "      <td>3.961596</td>\n",
       "      <td>7.172394</td>\n",
       "      <td>1.655167</td>\n",
       "      <td>1.237011</td>\n",
       "    </tr>\n",
       "    <tr>\n",
       "      <th>max</th>\n",
       "      <td>68.090095</td>\n",
       "      <td>80.810507</td>\n",
       "      <td>90.427887</td>\n",
       "      <td>83.736592</td>\n",
       "      <td>61.124163</td>\n",
       "      <td>8.131903</td>\n",
       "      <td>42.700420</td>\n",
       "      <td>24.267784</td>\n",
       "      <td>15.292357</td>\n",
       "      <td>76.934907</td>\n",
       "      <td>24.620747</td>\n",
       "      <td>3.868580</td>\n",
       "    </tr>\n",
       "  </tbody>\n",
       "</table>\n",
       "</div>"
      ],
      "text/plain": [
       "           doming    saddling    ruffling     wavingx     wavingy  \\\n",
       "count  318.000000  318.000000  318.000000  318.000000  318.000000   \n",
       "mean    12.577541   26.188418   18.195675   10.364771    8.578725   \n",
       "std     13.973740   23.590289   21.011408   14.545347   11.670849   \n",
       "min      0.000000    0.000000    0.000000    0.000000    0.000000   \n",
       "25%      2.894912    3.333920    1.744726    1.598655    1.516364   \n",
       "50%      6.754964   22.806726   10.252446    4.699550    4.243148   \n",
       "75%     17.595387   46.640117   26.243055   11.758813    9.321229   \n",
       "max     68.090095   80.810507   90.427887   83.736592   61.124163   \n",
       "\n",
       "       propellering     doming2   saddling2   ruffling2    wavingx2  \\\n",
       "count    318.000000  318.000000  318.000000  318.000000  318.000000   \n",
       "mean       1.072165    7.074337    4.008179    2.862045    6.503505   \n",
       "std        1.443447    6.876637    4.146813    2.752324   10.452066   \n",
       "min        0.000000    0.000000    0.000000    0.000000    0.000000   \n",
       "25%        0.075367    1.924317    0.619784    0.891453    0.846179   \n",
       "50%        0.552859    5.150742    2.870491    2.188783    2.559135   \n",
       "75%        1.438490    9.703525    6.101796    3.961596    7.172394   \n",
       "max        8.131903   42.700420   24.267784   15.292357   76.934907   \n",
       "\n",
       "       propellering2       total  \n",
       "count     318.000000  318.000000  \n",
       "mean        1.562170    0.827577  \n",
       "std         2.719005    0.832264  \n",
       "min         0.000000    0.000000  \n",
       "25%         0.310113    0.224486  \n",
       "50%         0.731806    0.467829  \n",
       "75%         1.655167    1.237011  \n",
       "max        24.620747    3.868580  "
      ]
     },
     "execution_count": 21,
     "metadata": {},
     "output_type": "execute_result"
    }
   ],
   "source": [
    "relative_np.describe()"
   ]
  },
  {
   "cell_type": "code",
   "execution_count": null,
   "metadata": {},
   "outputs": [],
   "source": [
    "fig, axs = plt.subplots(ncols=3, figsize=(14, 5))\n",
    "fig.tight_layout()\n",
    "for i, c in enumerate(homa_df.columns):\n",
    "    scatter_plot(relative_np[\"total\"], homa_df[c], ax=axs[i], add_fitted_line=True)\n",
    "    axs[i].set_title(\" \".join(c.split(\"_\")).title())\n",
    "    axs[i].set_xlabel(\"Total out of plane (A)\")\n",
    "    axs[i].set_ylim(0, 1)\n",
    "axs[0].set_ylabel(\"HOMA\")"
   ]
  },
  {
   "attachments": {},
   "cell_type": "markdown",
   "metadata": {},
   "source": [
    "basic analysis of non planarity metrics vs. HOMA score"
   ]
  },
  {
   "cell_type": "code",
   "execution_count": null,
   "metadata": {},
   "outputs": [],
   "source": [
    "for mode in absolute_np.columns:\n",
    "    plt.figure()\n",
    "    scatter_plot(np.abs(absolute_np[mode]), homa_df[\"outer_circuit\"], xname=\"Absolute {} (A)\".format(mode), yname=\"HOMA\", add_fitted_line=True)"
   ]
  },
  {
   "cell_type": "code",
   "execution_count": null,
   "metadata": {},
   "outputs": [],
   "source": [
    "data = []\n",
    "for mode in  absolute_np.columns:\n",
    "    if not mode == \"cluster\":\n",
    "        d = {\"mode\": mode}\n",
    "        for circuit in homa_df.columns:\n",
    "            rs = linregress(np.abs(absolute_np[mode]), homa_df[circuit])\n",
    "            d[circuit + \" slope\"] = rs[0]\n",
    "            d[circuit + \" r2\"] = rs[2] ** 2\n",
    "        data.append(d)\n",
    "df = pd.DataFrame(data)\n",
    "df.to_csv(\"../results/non_planarity_vs_homa.csv\")\n",
    "print(df)"
   ]
  },
  {
   "attachments": {},
   "cell_type": "markdown",
   "metadata": {},
   "source": [
    "Calculation of dominant modes"
   ]
  },
  {
   "cell_type": "code",
   "execution_count": 459,
   "metadata": {},
   "outputs": [],
   "source": [
    "# get all relative non planarity info\n",
    "dominant_mode = relative_np[[c for c in relative_np.columns if not c == \"total\"]]\n",
    "# calculate the dominant mode\n",
    "dominant_mode[\"dominant\"] = dominant_mode.apply(lambda row: row.idxmax() if row.max() > 30 else \"undefined\", axis=1)\n",
    "dominant_mode[\"total\"] = relative_np[\"total\"]\n",
    "dominant_mode[\"dominant\"] = dominant_mode.apply(lambda row: row[\"dominant\"] if row[\"total\"] > 0.2 else \"planar\", axis=1)"
   ]
  },
  {
   "attachments": {},
   "cell_type": "markdown",
   "metadata": {},
   "source": [
    "basic statistics on HOMA scores of different dominant modes"
   ]
  },
  {
   "cell_type": "code",
   "execution_count": null,
   "metadata": {},
   "outputs": [],
   "source": [
    "index = []\n",
    "data = []\n",
    "for mode in dominant_mode[\"dominant\"].unique():\n",
    "    ids = dominant_mode[dominant_mode[\"dominant\"] == mode].index\n",
    "    d = {\n",
    "        \"N\": len(ids),\n",
    "        \"inner_homa\": homa_df.loc[ids, \"inner_circuit\"].mean(),\n",
    "        \"outer_homa\": homa_df.loc[ids, \"outer_circuit\"].mean(),\n",
    "        \"pyrrole_homa\": homa_df.loc[ids, \"pyrrole\"].mean(),\n",
    "        \"inner_en\": en_df.loc[ids, \"inner_circuit\"].mean(),\n",
    "        \"outer_en\": en_df.loc[ids, \"outer_circuit\"].mean(),\n",
    "        \"pyrrole_en\": en_df.loc[ids, \"pyrrole\"].mean(),\n",
    "        \"inner_geo\": geo_df.loc[ids, \"inner_circuit\"].mean(),\n",
    "        \"outer_geo\": geo_df.loc[ids, \"outer_circuit\"].mean(),\n",
    "        \"pyrrole_geo\": geo_df.loc[ids, \"pyrrole\"].mean()\n",
    "    }\n",
    "    data.append(d)\n",
    "    index.append(mode)\n",
    "res = pd.DataFrame(data, index=index)\n",
    "res = res.round(2)\n",
    "res"
   ]
  },
  {
   "cell_type": "code",
   "execution_count": null,
   "metadata": {},
   "outputs": [],
   "source": [
    "for mode in dominant_mode[\"dominant\"].unique():\n",
    "    ids = dominant_mode[dominant_mode[\"dominant\"] == mode].index\n",
    "    plt.figure()\n",
    "    scatter_plot(dominant_mode.loc[ids, \"total\"], homa_df.loc[ids, \"outer_circuit\"], xname=\"total out of plane\", yname=\"homa\", label=mode, add_fitted_line=True)\n",
    "    plt.legend()"
   ]
  },
  {
   "attachments": {},
   "cell_type": "markdown",
   "metadata": {},
   "source": [
    "## PCA visualizations"
   ]
  },
  {
   "cell_type": "code",
   "execution_count": 456,
   "metadata": {},
   "outputs": [],
   "source": [
    "from sklearn.decomposition import PCA"
   ]
  },
  {
   "cell_type": "code",
   "execution_count": null,
   "metadata": {},
   "outputs": [],
   "source": [
    "# PCA decomposition on absolute metrics\n",
    "model = PCA(n_components=2)\n",
    "pca = model.fit_transform(absolute_np)\n",
    "plt.scatter(pca[:, 0], pca[:, 1], c=homa_df[\"outer_circuit\"], alpha=1)\n",
    "plt.colorbar()"
   ]
  },
  {
   "cell_type": "code",
   "execution_count": null,
   "metadata": {},
   "outputs": [],
   "source": [
    "# PCA color by dominant mode\n",
    "pca_df = pd.DataFrame(pca, index=absolute_np.index)\n",
    "for mode in dominant_mode[\"dominant\"].unique():\n",
    "    ids = dominant_mode[dominant_mode[\"dominant\"] == mode].index\n",
    "    plt.scatter(pca_df.loc[ids, 0], pca_df.loc[ids, 1], label=mode)\n",
    "plt.legend()"
   ]
  },
  {
   "cell_type": "code",
   "execution_count": null,
   "metadata": {},
   "outputs": [],
   "source": [
    "significance = pd.DataFrame(data=model.components_, columns=absolute_np.columns)\n",
    "significance"
   ]
  },
  {
   "attachments": {},
   "cell_type": "markdown",
   "metadata": {},
   "source": [
    "# Clustering Analysis"
   ]
  },
  {
   "attachments": {},
   "cell_type": "markdown",
   "metadata": {},
   "source": [
    "choosing clustering algorithm and number of clusters"
   ]
  },
  {
   "cell_type": "code",
   "execution_count": 232,
   "metadata": {},
   "outputs": [],
   "source": [
    "from sklearn.mixture import GaussianMixture\n",
    "from sklearn.cluster import DBSCAN, KMeans\n",
    "from sklearn.metrics import silhouette_score, davies_bouldin_score, calinski_harabasz_score"
   ]
  },
  {
   "cell_type": "code",
   "execution_count": null,
   "metadata": {},
   "outputs": [],
   "source": [
    "# nrange = np.linspace(0.1, 3, 15)\n",
    "nrange = range(2, 12)\n",
    "metrics = [silhouette_score, calinski_harabasz_score]\n",
    "X = absolute_np.to_numpy()\n",
    "dfs = []\n",
    "for _ in range(10):\n",
    "    scores = []\n",
    "    for n in nrange:\n",
    "        model = GaussianMixture(n_components=n)\n",
    "        labels = model.fit_predict(X)\n",
    "        ajr = {}\n",
    "        for score_func in metrics:\n",
    "            try:\n",
    "                ajr[score_func.__name__] = score_func(X, labels)\n",
    "            except ValueError:\n",
    "                ajr[score_func.__name__] = None\n",
    "        scores.append(ajr)\n",
    "    dfs.append(pd.DataFrame(scores, index=nrange))\n",
    "df = sum(dfs) / 10\n",
    "for col in df.columns:\n",
    "    plt.figure()\n",
    "    plt.plot(df.index, df[col])\n",
    "    plt.title(col)\n",
    "    plt.xticks(df.index)"
   ]
  },
  {
   "cell_type": "code",
   "execution_count": null,
   "metadata": {},
   "outputs": [],
   "source": [
    "for mode in dominant_mode[\"dominant\"].unique():\n",
    "    ids = dominant_mode[dominant_mode[\"dominant\"] == mode].index\n",
    "    plt.figure()\n",
    "    scatter_plot(dominant_mode.loc[ids, \"total\"], homa_df.loc[ids, \"outer_circuit\"], xname=\"total out of plane\", yname=\"homa\", label=mode, add_fitted_line=True)\n",
    "    plt.legend()"
   ]
  },
  {
   "attachments": {},
   "cell_type": "markdown",
   "metadata": {},
   "source": [
    "analyzing cluster contents"
   ]
  },
  {
   "cell_type": "code",
   "execution_count": 361,
   "metadata": {},
   "outputs": [],
   "source": [
    "def cluster_df(n_clusters, aromaticity_df, column_name):\n",
    "    model = GaussianMixture(n_components=n_clusters)\n",
    "    labels = model.fit_predict(X)\n",
    "    absolute_np[\"cluster\"] = labels\n",
    "    data = []\n",
    "    clusters = absolute_np[\"cluster\"].unique() \n",
    "    for cl in clusters:\n",
    "        ids = absolute_np[absolute_np[\"cluster\"] == cl].index\n",
    "        sample = aromaticity_df.loc[ids, column_name]\n",
    "        pvalue = p_value(sample, aromaticity_df[column_name])\n",
    "        d = {\"mean\": sample.mean(), \"N\": len(sample), \"p\": pvalue}\n",
    "        d.update(absolute_np.loc[ids, :].mean(axis=0).to_dict())\n",
    "        data.append(d)\n",
    "    df = pd.DataFrame(data, index=clusters)\n",
    "    return df[df[\"p\"] < 0.05]"
   ]
  },
  {
   "cell_type": "code",
   "execution_count": null,
   "metadata": {},
   "outputs": [],
   "source": [
    "prop = \"outer_circuit\"\n",
    "print(\"Population mean:\", homa_df[\"outer_circuit\"].mean())\n",
    "cluster_df(10, homa_df, \"outer_circuit\")"
   ]
  },
  {
   "attachments": {},
   "cell_type": "markdown",
   "metadata": {},
   "source": [
    "# Analyzing using substituents nearest neighbor distance"
   ]
  },
  {
   "cell_type": "code",
   "execution_count": 241,
   "metadata": {},
   "outputs": [
    {
     "name": "stdout",
     "output_type": "stream",
     "text": [
      "         covalent nn dist beta1  covalent nn dist beta2  \\\n",
      "1503509                1.804090                1.434289   \n",
      "1503510                1.804429                1.322952   \n",
      "1506605                1.804893                1.434670   \n",
      "1506810                1.542162                1.212022   \n",
      "1506811                1.542130                1.208247   \n",
      "...                         ...                     ...   \n",
      "7701576                1.804224                1.428619   \n",
      "7701724                1.804454                1.433509   \n",
      "7713179                1.010465                1.021915   \n",
      "8101904                1.804590                1.438187   \n",
      "8106545                1.804191                1.434244   \n",
      "\n",
      "         covalent nn dist beta3  covalent nn dist beta4  \\\n",
      "1503509                1.805170                1.322952   \n",
      "1503510                1.805321                1.434244   \n",
      "1506605                1.805667                1.434670   \n",
      "1506810                1.546370                1.212022   \n",
      "1506811                1.540202                1.210671   \n",
      "...                         ...                     ...   \n",
      "7701576                1.804736                1.857943   \n",
      "7701724                1.804225                1.434670   \n",
      "7713179                1.013151                1.024154   \n",
      "8101904                1.804264                1.441677   \n",
      "8106545                1.804700                1.545713   \n",
      "\n",
      "         covalent nn dist beta5  covalent nn dist beta6  \\\n",
      "1503509                1.805225                1.434670   \n",
      "1503510                1.804332                1.322952   \n",
      "1506605                1.804680                1.498511   \n",
      "1506810                1.542172                1.212022   \n",
      "1506811                1.537830                1.210671   \n",
      "...                         ...                     ...   \n",
      "7701576                1.804403                1.431482   \n",
      "7701724                1.804374                1.434670   \n",
      "7713179                1.018071                1.021915   \n",
      "8101904                1.804376                1.438187   \n",
      "8106545                1.804291                1.432357   \n",
      "\n",
      "         covalent nn dist beta7  covalent nn dist beta8  \\\n",
      "1503509                1.804506                1.857943   \n",
      "1503510                1.806088                1.434289   \n",
      "1506605                1.807053                1.434670   \n",
      "1506810                1.538306                1.208247   \n",
      "1506811                1.542046                1.210671   \n",
      "...                         ...                     ...   \n",
      "7701576                1.804974                1.324465   \n",
      "7701724                1.805155                1.434670   \n",
      "7713179                1.011736                1.021915   \n",
      "8101904                1.804293                1.438187   \n",
      "8106545                1.805006                1.544419   \n",
      "\n",
      "         covalent nn dist meso1  covalent nn dist meso2  \\\n",
      "1503509                1.857943                1.434035   \n",
      "1503510                1.434035                1.527613   \n",
      "1506605                1.432998                1.432998   \n",
      "1506810                1.263144                1.262440   \n",
      "1506811                1.263144                1.263144   \n",
      "...                         ...                     ...   \n",
      "7701576                1.329920                1.427666   \n",
      "7701724                1.432998                1.433282   \n",
      "7713179                1.019353                1.019353   \n",
      "8101904                1.436283                1.436283   \n",
      "8106545                1.585383                1.435343   \n",
      "\n",
      "         covalent nn dist meso3  covalent nn dist meso4  \n",
      "1503509                1.527613                1.432998  \n",
      "1503510                1.435343                1.527613  \n",
      "1506605                1.432998                1.557807  \n",
      "1506810                1.262440                1.262440  \n",
      "1506811                1.263144                1.263144  \n",
      "...                         ...                     ...  \n",
      "7701576                1.857943                1.432924  \n",
      "7701724                1.432998                1.432998  \n",
      "7713179                1.019248                1.019353  \n",
      "8101904                1.443363                1.436283  \n",
      "8106545                1.584200                1.431568  \n",
      "\n",
      "[271 rows x 12 columns]\n"
     ]
    }
   ],
   "source": [
    "from featurizers import SubstituentPropertyFeaturizer\n",
    "por_sids = utils.sids_by_type(session, \"porphyrin\")\n",
    "por_distances_feat = SubstituentPropertyFeaturizer(session, por_sids, [\"covalent nn dist\"], [None])\n",
    "# por_distances_feat = SubstituentPropertyFeaturizer(session, por_sids, [\"cone angle\"], [None])\n",
    "por_distances_df = por_distances_feat.to_dataframe()\n",
    "# por_distances_df = por_distances_df.drop(columns=[\"cone angle axial1\", \"cone angle axial2\"])\n",
    "por_distances_df = por_distances_df.fillna(0)\n",
    "print(por_distances_df)\n",
    "por_distances_df[\"metal\"] = [metal_radius(session, sid)[0] for sid in por_distances_df.index]"
   ]
  },
  {
   "attachments": {},
   "cell_type": "markdown",
   "metadata": {},
   "source": [
    "analyzing basic statistics of the distance metrics"
   ]
  },
  {
   "cell_type": "code",
   "execution_count": 242,
   "metadata": {},
   "outputs": [
    {
     "data": {
      "image/png": "[encoded data removed]",
      "text/plain": [
       "<Figure size 480x480 with 2 Axes>"
      ]
     },
     "metadata": {},
     "output_type": "display_data"
    }
   ],
   "source": [
    "plt.matshow(por_distances_df.corr() ** 2, cmap=\"Greens\");\n",
    "plt.colorbar();\n",
    "plt.xticks(range(len(por_distances_df.columns)), [c.split()[-1] for c in por_distances_df.columns], rotation=45);\n",
    "plt.yticks(range(len(por_distances_df.columns)), [c.split()[-1] for c in por_distances_df.columns]);"
   ]
  },
  {
   "cell_type": "code",
   "execution_count": 247,
   "metadata": {},
   "outputs": [
    {
     "name": "stderr",
     "output_type": "stream",
     "text": [
      "/home/shachar/miniconda3/envs/pymatgen/lib/python3.11/site-packages/sklearn/utils/validation.py:767: FutureWarning: is_sparse is deprecated and will be removed in a future version. Check `isinstance(dtype, pd.SparseDtype)` instead.\n",
      "  if not hasattr(array, \"sparse\") and array.dtypes.apply(is_sparse).any():\n",
      "/home/shachar/miniconda3/envs/pymatgen/lib/python3.11/site-packages/sklearn/utils/validation.py:605: FutureWarning: is_sparse is deprecated and will be removed in a future version. Check `isinstance(dtype, pd.SparseDtype)` instead.\n",
      "  if is_sparse(pd_dtype):\n",
      "/home/shachar/miniconda3/envs/pymatgen/lib/python3.11/site-packages/sklearn/utils/validation.py:614: FutureWarning: is_sparse is deprecated and will be removed in a future version. Check `isinstance(dtype, pd.SparseDtype)` instead.\n",
      "  if is_sparse(pd_dtype) or not is_extension_array_dtype(pd_dtype):\n"
     ]
    },
    {
     "data": {
      "image/png": "[encoded data removed]",
      "text/plain": [
       "<Figure size 640x480 with 2 Axes>"
      ]
     },
     "metadata": {},
     "output_type": "display_data"
    }
   ],
   "source": [
    "from sklearn.decomposition import PCA\n",
    "model = PCA(n_components=2)\n",
    "vecs = model.fit_transform(por_distances_df)\n",
    "target = relative_np[relative_np.index.isin(por_sids)][\"total\"]\n",
    "# target = absolute_np[absolute_np.index.isin(por_sids)][\"doming\"].abs()\n",
    "plt.scatter(vecs[:, 0], vecs[:, 1], c=target, alpha=0.7);\n",
    "plt.colorbar();"
   ]
  },
  {
   "attachments": {},
   "cell_type": "markdown",
   "metadata": {},
   "source": [
    "fitting models"
   ]
  },
  {
   "cell_type": "code",
   "execution_count": 263,
   "metadata": {},
   "outputs": [
    {
     "name": "stdout",
     "output_type": "stream",
     "text": [
      "N = 204\n",
      "N parameters = (13,)\n",
      "N train = 183 N test = 21\n"
     ]
    }
   ],
   "source": [
    "from sklearn.model_selection import train_test_split\n",
    "from sklearn.ensemble import RandomForestRegressor\n",
    "from sklearn.linear_model import Lasso\n",
    "from sklearn.kernel_ridge import KernelRidge\n",
    "from sklearn.gaussian_process import GaussianProcessRegressor\n",
    "from sklearn.gaussian_process.kernels import RBF, WhiteKernel, Matern\n",
    "# model = KernelRidge(alpha=0.001, kernel=\"rbf\")\n",
    "model = RandomForestRegressor(n_estimators=1000)\n",
    "# kernel = 1 * RBF(length_scale=1e-5, length_scale_bounds=(1e-10, 1))\n",
    "# kernel = Matern(length_scale=1e-3, nu=0.01)\n",
    "# model = GaussianProcessRegressor(kernel, n_restarts_optimizer=9, normalize_y=True)\n",
    "# por_distances_feat.normalize()\n",
    "X = np.array(por_distances_df.values)\n",
    "y = np.array(relative_np[relative_np.index.isin(por_sids)][\"total\"])\n",
    "# y = np.array(absolute_np[absolute_np.index.isin(por_sids)][\"saddling\"].abs())\n",
    "idxs = list(filter(lambda i: y[i] > 0.2, range(len(y))))\n",
    "X = X[idxs]\n",
    "y = y[idxs]\n",
    "print(\"N =\", len(X))\n",
    "print(\"N parameters =\", X.shape[1:])\n",
    "# ymean = np.mean(y)\n",
    "# ystd = np.std(y)\n",
    "# y = (y - ymean) / ystd\n",
    "xtrain, xtest, ytrain, ytest = train_test_split(X, y, test_size=0.1, random_state=42)\n",
    "print(\"N train =\", len(xtrain), \"N test =\", len(xtest))\n",
    "model.fit(xtrain, ytrain);\n",
    "# model.kernel_"
   ]
  },
  {
   "cell_type": "code",
   "execution_count": 264,
   "metadata": {},
   "outputs": [
    {
     "data": {
      "image/png": "[encoded data removed]",
      "text/plain": [
       "<Figure size 640x480 with 1 Axes>"
      ]
     },
     "metadata": {},
     "output_type": "display_data"
    }
   ],
   "source": [
    "plt.scatter(model.predict(xtest), ytest);\n",
    "plt.plot(ytest, ytest, \"r\");"
   ]
  },
  {
   "cell_type": "code",
   "execution_count": 265,
   "metadata": {},
   "outputs": [
    {
     "data": {
      "image/png": "[encoded data removed]",
      "text/plain": [
       "<Figure size 640x480 with 1 Axes>"
      ]
     },
     "metadata": {},
     "output_type": "display_data"
    }
   ],
   "source": [
    "plt.scatter(model.predict(xtrain), ytrain);\n",
    "plt.plot(ytrain, ytrain, \"r\");"
   ]
  },
  {
   "cell_type": "code",
   "execution_count": null,
   "metadata": {},
   "outputs": [],
   "source": []
  },
  {
   "cell_type": "code",
   "execution_count": null,
   "metadata": {},
   "outputs": [],
   "source": []
  }
 ],
 "metadata": {
  "kernelspec": {
   "display_name": "pymatgen",
   "language": "python",
   "name": "python3"
  },
  "language_info": {
   "codemirror_mode": {
    "name": "ipython",
    "version": 3
   },
   "file_extension": ".py",
   "mimetype": "text/x-python",
   "name": "python",
   "nbconvert_exporter": "python",
   "pygments_lexer": "ipython3",
   "version": "3.11.6"
  },
  "orig_nbformat": 4,
  "vscode": {
   "interpreter": {
    "hash": "ad47c4e099b541291f499c5bf8512199bb2680d96540a4cd98ae6a565719d592"
   }
  }
 },
 "nbformat": 4,
 "nbformat_minor": 2
}
