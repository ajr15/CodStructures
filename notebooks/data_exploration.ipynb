{
 "cells": [
  {
   "cell_type": "code",
   "execution_count": 449,
   "metadata": {},
   "outputs": [],
   "source": [
    "# environment setup\n",
    "from matplotlib import pyplot as plt\n",
    "import pandas as pd\n",
    "from scipy.stats import norm, linregress\n",
    "import numpy as np\n",
    "import sys; sys.path.append(\"/home/shachar/repos/miscellaneous/CodStructures/\")\n",
    "import utils\n",
    "from featurizers import StructurePropertyFeaturizer\n",
    "from read_to_sql import StructureProperty\n",
    "# creating session with SQL database\n",
    "from sqlalchemy import create_engine\n",
    "from sqlalchemy.orm import sessionmaker\n",
    "engine = create_engine(\"sqlite:///{}\".format(\"/home/shachar/repos/miscellaneous/CodStructures/main.db\"))\n",
    "session = sessionmaker(bind=engine)()"
   ]
  },
  {
   "cell_type": "code",
   "execution_count": 312,
   "metadata": {},
   "outputs": [],
   "source": [
    "# setting up important global variables & functions\n",
    "\n",
    "def non_planarity_modes(session):\n",
    "    names = session.query(StructureProperty.property).distinct().all()\n",
    "    return [x[0] for x in names if \"non planarity\" in x[0]]\n",
    "\n",
    "def homa_properties(session, target=\"homa\"):\n",
    "    names = session.query(StructureProperty.property).filter(StructureProperty.source == \"homa\").distinct().all()\n",
    "    return [x[0] for x in names if target in x[0]]\n",
    "\n",
    "def homa_values_df(session, sids, target, avg_pyrroles):\n",
    "    # reading the data from SQL\n",
    "    homa_props = homa_properties(session, target=target)\n",
    "    units = [None for _ in range(len(homa_props))]\n",
    "    homa_df = StructurePropertyFeaturizer(session, sids, homa_props, property_units=units).to_dataframe()\n",
    "    homa_df.columns = [c.split()[0] for c in homa_df.columns]\n",
    "    if avg_pyrroles:\n",
    "        # adding column of average pyrrole HOMA score\n",
    "        pyrrole_cols = [c for c in homa_df.columns if \"pyrrole\" in c]\n",
    "        homa_df[\"pyrrole\"] = homa_df[pyrrole_cols].mean(axis=1)\n",
    "        # removing all other pyrrole columns\n",
    "        homa_df = homa_df[[c for c in homa_df.columns if not c in pyrrole_cols]]\n",
    "    return homa_df\n",
    "\n",
    "def non_planarity_df(session, sids, units, add_total_non_planarity):\n",
    "    # reading the data\n",
    "    modes = non_planarity_modes(session)\n",
    "    # removing wavingy2 mode as it exists only in corroles\n",
    "    modes.remove(\"wavingy2 non planarity\")\n",
    "    mode_units = [units for _ in range(len(modes))]\n",
    "    if add_total_non_planarity:\n",
    "        modes.append(\"total out of plane (exp)\")\n",
    "        mode_units.append(\"A\")\n",
    "    non_planarity_df = StructurePropertyFeaturizer(session, sids, modes, mode_units).to_dataframe()\n",
    "    non_planarity_df.columns = [c.split()[0] for c in non_planarity_df.columns]\n",
    "    return non_planarity_df\n",
    "\n",
    "def scatter_plot(x, y, ax=None, xname=None, yname=None, add_fitted_line=False, add_ideal_line=False, label=None):\n",
    "    if ax is None:\n",
    "        ax = plt.gca()\n",
    "    ax.scatter(x, y, label=label)\n",
    "    if xname is not None:\n",
    "        ax.set_xlabel(xname)\n",
    "    if yname is not None:\n",
    "        ax.set_ylabel(yname)\n",
    "    if add_fitted_line:\n",
    "        a, b = np.polyfit(x, y, deg=1)\n",
    "        fitted_x = [min(x), max(x)]\n",
    "        fitted_y = [a * v + b for v in fitted_x]\n",
    "        ax.plot(fitted_x, fitted_y, \"r--\")\n",
    "    if add_ideal_line:\n",
    "        fitted_x = [min(x), max(x)]\n",
    "        ax.plot(fitted_x, fitted_x, \"r--\")\n",
    "\n",
    "def p_value(sample_data, population_data):\n",
    "    \"\"\"Calculate the p-value of sample from normal distribution. calculates the probability that the mean difference between the sample and the population is at least as large as measured.\"\"\"\n",
    "    sample_mean = np.mean(sample_data)\n",
    "    population_mean = np.mean(population_data)\n",
    "    population_std = np.std(population_data)\n",
    "    N = len(sample_data)\n",
    "    statistic = abs((sample_mean - population_mean) / (population_std / np.sqrt(N)))\n",
    "    return 2 * norm(0, 1).sf(statistic)\n"
   ]
  },
  {
   "attachments": {},
   "cell_type": "markdown",
   "metadata": {},
   "source": [
    "# Basic analysis"
   ]
  },
  {
   "cell_type": "code",
   "execution_count": 49,
   "metadata": {},
   "outputs": [],
   "source": [
    "# deciding the type of structures to analyze\n",
    "sids = utils.sids_by_type(session, \"all\")"
   ]
  },
  {
   "cell_type": "code",
   "execution_count": 416,
   "metadata": {},
   "outputs": [],
   "source": [
    "por_sids = utils.sids_by_type(session, \"porphyrin\")\n",
    "cor_sids = utils.sids_by_type(session, \"corrole\")\n",
    "cor_homa = homa_values_df(session, cor_sids, \"homa\", True)\n",
    "cor_en = homa_values_df(session, cor_sids, \"en\", True)\n",
    "cor_geo = homa_values_df(session, cor_sids, \"geo\", True)\n",
    "por_homa = homa_values_df(session, por_sids, \"homa\", True)\n",
    "por_en = homa_values_df(session, por_sids, \"en\", True)\n",
    "por_geo = homa_values_df(session, por_sids, \"geo\", True)"
   ]
  },
  {
   "cell_type": "code",
   "execution_count": null,
   "metadata": {},
   "outputs": [],
   "source": [
    "fig, axs = plt.subplots(ncols=3, figsize=(10, 5))\n",
    "fig.tight_layout()\n",
    "for i, c in enumerate(por_homa.columns):\n",
    "    axs[i].hist(por_homa[c], density=True, alpha=0.7, label=\"porphyrins\")\n",
    "    axs[i].hist(cor_homa[c], density=True, alpha=0.7, label=\"corroles\")\n",
    "    axs[i].set_title(\" \".join(c.split(\"_\")).title())\n",
    "    axs[i].legend()"
   ]
  },
  {
   "cell_type": "code",
   "execution_count": null,
   "metadata": {},
   "outputs": [],
   "source": [
    "fig, axs = plt.subplots(nrows=2, ncols=3, figsize=(10, 5))\n",
    "fig.tight_layout()\n",
    "for i, c in enumerate(por_homa.columns):\n",
    "    axs[0, i].hist(por_en[c], density=True, alpha=0.7, label=\"porphyrins\")\n",
    "    axs[0, i].hist(cor_en[c], density=True, alpha=0.7, label=\"corroles\")\n",
    "    axs[0, i].set_title(\" \".join(c.split(\"_\")).title())\n",
    "    axs[0, i].legend()\n",
    "    axs[1, i].hist(por_geo[c], density=True, alpha=0.7, label=\"porphyrins\")\n",
    "    axs[1, i].hist(cor_geo[c], density=True, alpha=0.7, label=\"corroles\")\n",
    "    axs[1, i].legend()\n",
    "axs[0, 0].set_ylabel(\"EN\")\n",
    "axs[1, 0].set_ylabel(\"GEO\")"
   ]
  },
  {
   "attachments": {},
   "cell_type": "markdown",
   "metadata": {},
   "source": [
    "## HOMA\n",
    "Showing key statistics and analyzing the HOMA properties. HOMA consists of: pyrrole (1 to 4) score, inner ring score and outer ring score. Inner and out ring scores can be used as is, while the pyrrole scores are averaged"
   ]
  },
  {
   "cell_type": "code",
   "execution_count": 423,
   "metadata": {},
   "outputs": [],
   "source": [
    "# reading the data\n",
    "homa_df = homa_values_df(session, sids, \"homa\", True)\n",
    "en_df = homa_values_df(session, sids, \"en\", True)\n",
    "geo_df = homa_values_df(session, sids, \"geo\", True)"
   ]
  },
  {
   "cell_type": "code",
   "execution_count": null,
   "metadata": {},
   "outputs": [],
   "source": [
    "# scatter plots\n",
    "fig, axs = plt.subplots(nrows=2, ncols=3, figsize=(14, 7))\n",
    "fig.tight_layout()\n",
    "for i, c in enumerate(homa_df.columns):\n",
    "    scatter_plot(homa_df[c], en_df[c], ax=axs[0, i], add_fitted_line=True)\n",
    "    scatter_plot(homa_df[c], geo_df[c], ax=axs[1, i], add_fitted_line=True)\n",
    "    axs[0, i].set_title(\" \".join(c.split(\"_\")).title())\n",
    "    axs[1, i].set_xlabel(\"HOMA\")\n",
    "axs[0, 0].set_ylabel(\"EN\")\n",
    "axs[1, 0].set_ylabel(\"GEO\")"
   ]
  },
  {
   "attachments": {},
   "cell_type": "markdown",
   "metadata": {},
   "source": [
    "## Non-Planarity"
   ]
  },
  {
   "cell_type": "code",
   "execution_count": 458,
   "metadata": {},
   "outputs": [],
   "source": [
    "absolute_np = non_planarity_df(session, sids, \"A\", add_total_non_planarity=False)\n",
    "relative_np = non_planarity_df(session, sids, \"%\", add_total_non_planarity=True)"
   ]
  },
  {
   "cell_type": "code",
   "execution_count": 462,
   "metadata": {},
   "outputs": [
    {
     "data": {
      "text/html": [
       "<div>\n",
       "<style scoped>\n",
       "    .dataframe tbody tr th:only-of-type {\n",
       "        vertical-align: middle;\n",
       "    }\n",
       "\n",
       "    .dataframe tbody tr th {\n",
       "        vertical-align: top;\n",
       "    }\n",
       "\n",
       "    .dataframe thead th {\n",
       "        text-align: right;\n",
       "    }\n",
       "</style>\n",
       "<table border=\"1\" class=\"dataframe\">\n",
       "  <thead>\n",
       "    <tr style=\"text-align: right;\">\n",
       "      <th></th>\n",
       "      <th>doming</th>\n",
       "      <th>saddling</th>\n",
       "      <th>ruffling</th>\n",
       "      <th>wavingx</th>\n",
       "      <th>wavingy</th>\n",
       "      <th>propellering</th>\n",
       "      <th>doming2</th>\n",
       "      <th>saddling2</th>\n",
       "      <th>ruffling2</th>\n",
       "      <th>wavingx2</th>\n",
       "      <th>propellering2</th>\n",
       "    </tr>\n",
       "  </thead>\n",
       "  <tbody>\n",
       "    <tr>\n",
       "      <th>count</th>\n",
       "      <td>318.000000</td>\n",
       "      <td>318.000000</td>\n",
       "      <td>3.180000e+02</td>\n",
       "      <td>318.000000</td>\n",
       "      <td>318.000000</td>\n",
       "      <td>318.000000</td>\n",
       "      <td>318.000000</td>\n",
       "      <td>318.000000</td>\n",
       "      <td>318.000000</td>\n",
       "      <td>318.000000</td>\n",
       "      <td>318.000000</td>\n",
       "    </tr>\n",
       "    <tr>\n",
       "      <th>mean</th>\n",
       "      <td>-0.011422</td>\n",
       "      <td>0.099529</td>\n",
       "      <td>4.522243e-03</td>\n",
       "      <td>0.000262</td>\n",
       "      <td>0.002680</td>\n",
       "      <td>0.000742</td>\n",
       "      <td>0.004658</td>\n",
       "      <td>0.009479</td>\n",
       "      <td>-0.001426</td>\n",
       "      <td>0.001136</td>\n",
       "      <td>0.000540</td>\n",
       "    </tr>\n",
       "    <tr>\n",
       "      <th>std</th>\n",
       "      <td>0.233210</td>\n",
       "      <td>0.983378</td>\n",
       "      <td>6.255957e-01</td>\n",
       "      <td>0.093675</td>\n",
       "      <td>0.086772</td>\n",
       "      <td>0.018245</td>\n",
       "      <td>0.128020</td>\n",
       "      <td>0.133310</td>\n",
       "      <td>0.052814</td>\n",
       "      <td>0.053284</td>\n",
       "      <td>0.014614</td>\n",
       "    </tr>\n",
       "    <tr>\n",
       "      <th>min</th>\n",
       "      <td>-1.177807</td>\n",
       "      <td>-3.783969</td>\n",
       "      <td>-2.781806e+00</td>\n",
       "      <td>-0.403703</td>\n",
       "      <td>-0.249536</td>\n",
       "      <td>-0.086862</td>\n",
       "      <td>-0.659887</td>\n",
       "      <td>-0.700165</td>\n",
       "      <td>-0.242383</td>\n",
       "      <td>-0.185260</td>\n",
       "      <td>-0.055326</td>\n",
       "    </tr>\n",
       "    <tr>\n",
       "      <th>25%</th>\n",
       "      <td>-0.075147</td>\n",
       "      <td>-0.170174</td>\n",
       "      <td>-1.050718e-01</td>\n",
       "      <td>-0.055891</td>\n",
       "      <td>-0.042295</td>\n",
       "      <td>-0.007174</td>\n",
       "      <td>-0.037874</td>\n",
       "      <td>-0.024905</td>\n",
       "      <td>-0.021556</td>\n",
       "      <td>-0.028128</td>\n",
       "      <td>-0.008466</td>\n",
       "    </tr>\n",
       "    <tr>\n",
       "      <th>50%</th>\n",
       "      <td>-0.001522</td>\n",
       "      <td>0.000017</td>\n",
       "      <td>1.894678e-08</td>\n",
       "      <td>-0.000065</td>\n",
       "      <td>0.000150</td>\n",
       "      <td>0.000008</td>\n",
       "      <td>0.001586</td>\n",
       "      <td>0.000173</td>\n",
       "      <td>-0.000793</td>\n",
       "      <td>0.000236</td>\n",
       "      <td>0.000048</td>\n",
       "    </tr>\n",
       "    <tr>\n",
       "      <th>75%</th>\n",
       "      <td>0.066278</td>\n",
       "      <td>0.287529</td>\n",
       "      <td>1.307486e-01</td>\n",
       "      <td>0.052291</td>\n",
       "      <td>0.049978</td>\n",
       "      <td>0.010815</td>\n",
       "      <td>0.051942</td>\n",
       "      <td>0.040695</td>\n",
       "      <td>0.016505</td>\n",
       "      <td>0.030582</td>\n",
       "      <td>0.009736</td>\n",
       "    </tr>\n",
       "    <tr>\n",
       "      <th>max</th>\n",
       "      <td>0.898867</td>\n",
       "      <td>3.708000</td>\n",
       "      <td>2.994595e+00</td>\n",
       "      <td>0.305766</td>\n",
       "      <td>0.327669</td>\n",
       "      <td>0.075377</td>\n",
       "      <td>0.855621</td>\n",
       "      <td>0.448191</td>\n",
       "      <td>0.289072</td>\n",
       "      <td>0.179507</td>\n",
       "      <td>0.045017</td>\n",
       "    </tr>\n",
       "  </tbody>\n",
       "</table>\n",
       "</div>"
      ],
      "text/plain": [
       "           doming    saddling      ruffling     wavingx     wavingy  \\\n",
       "count  318.000000  318.000000  3.180000e+02  318.000000  318.000000   \n",
       "mean    -0.011422    0.099529  4.522243e-03    0.000262    0.002680   \n",
       "std      0.233210    0.983378  6.255957e-01    0.093675    0.086772   \n",
       "min     -1.177807   -3.783969 -2.781806e+00   -0.403703   -0.249536   \n",
       "25%     -0.075147   -0.170174 -1.050718e-01   -0.055891   -0.042295   \n",
       "50%     -0.001522    0.000017  1.894678e-08   -0.000065    0.000150   \n",
       "75%      0.066278    0.287529  1.307486e-01    0.052291    0.049978   \n",
       "max      0.898867    3.708000  2.994595e+00    0.305766    0.327669   \n",
       "\n",
       "       propellering     doming2   saddling2   ruffling2    wavingx2  \\\n",
       "count    318.000000  318.000000  318.000000  318.000000  318.000000   \n",
       "mean       0.000742    0.004658    0.009479   -0.001426    0.001136   \n",
       "std        0.018245    0.128020    0.133310    0.052814    0.053284   \n",
       "min       -0.086862   -0.659887   -0.700165   -0.242383   -0.185260   \n",
       "25%       -0.007174   -0.037874   -0.024905   -0.021556   -0.028128   \n",
       "50%        0.000008    0.001586    0.000173   -0.000793    0.000236   \n",
       "75%        0.010815    0.051942    0.040695    0.016505    0.030582   \n",
       "max        0.075377    0.855621    0.448191    0.289072    0.179507   \n",
       "\n",
       "       propellering2  \n",
       "count     318.000000  \n",
       "mean        0.000540  \n",
       "std         0.014614  \n",
       "min        -0.055326  \n",
       "25%        -0.008466  \n",
       "50%         0.000048  \n",
       "75%         0.009736  \n",
       "max         0.045017  "
      ]
     },
     "execution_count": 462,
     "metadata": {},
     "output_type": "execute_result"
    }
   ],
   "source": [
    "absolute_np.describe()"
   ]
  },
  {
   "cell_type": "code",
   "execution_count": null,
   "metadata": {},
   "outputs": [],
   "source": [
    "fig, axs = plt.subplots(ncols=3, figsize=(14, 5))\n",
    "fig.tight_layout()\n",
    "for i, c in enumerate(homa_df.columns):\n",
    "    scatter_plot(relative_np[\"total\"], homa_df[c], ax=axs[i], add_fitted_line=True)\n",
    "    axs[i].set_title(\" \".join(c.split(\"_\")).title())\n",
    "    axs[i].set_xlabel(\"Total out of plane (A)\")\n",
    "    axs[i].set_ylim(0, 1)\n",
    "axs[0].set_ylabel(\"HOMA\")"
   ]
  },
  {
   "attachments": {},
   "cell_type": "markdown",
   "metadata": {},
   "source": [
    "basic analysis of non planarity metrics vs. HOMA score"
   ]
  },
  {
   "cell_type": "code",
   "execution_count": null,
   "metadata": {},
   "outputs": [],
   "source": [
    "for mode in absolute_np.columns:\n",
    "    plt.figure()\n",
    "    scatter_plot(np.abs(absolute_np[mode]), homa_df[\"outer_circuit\"], xname=\"Absolute {} (A)\".format(mode), yname=\"HOMA\", add_fitted_line=True)"
   ]
  },
  {
   "cell_type": "code",
   "execution_count": 455,
   "metadata": {},
   "outputs": [
    {
     "name": "stdout",
     "output_type": "stream",
     "text": [
      "             mode  inner_circuit slope  inner_circuit r2  outer_circuit slope  \\\n",
      "0          doming            -0.039401          0.017918             0.005112   \n",
      "1        saddling            -0.006606          0.010106            -0.040843   \n",
      "2        ruffling            -0.000895          0.000077             0.005093   \n",
      "3         wavingx             0.077980          0.008399             0.006473   \n",
      "4         wavingy            -0.017543          0.000376            -0.237797   \n",
      "5    propellering            -0.603839          0.023313            -1.188786   \n",
      "6         doming2            -0.086391          0.026089            -0.252719   \n",
      "7       saddling2            -0.065544          0.018059            -0.367227   \n",
      "8       ruffling2            -0.071447          0.002950            -0.327438   \n",
      "9        wavingx2             0.147607          0.009855             0.018594   \n",
      "10  propellering2            -0.344760          0.003910            -1.622179   \n",
      "\n",
      "    outer_circuit r2  pyrrole slope  pyrrole r2  \n",
      "0           0.000060       0.020186    0.001359  \n",
      "1           0.077491      -0.040906    0.111985  \n",
      "2           0.000501      -0.008982    0.002245  \n",
      "3           0.000012      -0.014743    0.000087  \n",
      "4           0.013857      -0.204053    0.014700  \n",
      "5           0.018124      -0.855562    0.013524  \n",
      "6           0.044780      -0.219679    0.048748  \n",
      "7           0.113702      -0.286933    0.100008  \n",
      "8           0.012427      -0.298346    0.014864  \n",
      "9           0.000031       0.143625    0.002696  \n",
      "10          0.017363      -1.255953    0.014995  \n"
     ]
    }
   ],
   "source": [
    "data = []\n",
    "for mode in  absolute_np.columns:\n",
    "    if not mode == \"cluster\":\n",
    "        d = {\"mode\": mode}\n",
    "        for circuit in homa_df.columns:\n",
    "            rs = linregress(np.abs(absolute_np[mode]), homa_df[circuit])\n",
    "            d[circuit + \" slope\"] = rs[0]\n",
    "            d[circuit + \" r2\"] = rs[2] ** 2\n",
    "        data.append(d)\n",
    "df = pd.DataFrame(data)\n",
    "df.to_csv(\"../results/non_planarity_vs_homa.csv\")\n",
    "print(df)"
   ]
  },
  {
   "attachments": {},
   "cell_type": "markdown",
   "metadata": {},
   "source": [
    "Calculation of dominant modes"
   ]
  },
  {
   "cell_type": "code",
   "execution_count": 459,
   "metadata": {},
   "outputs": [],
   "source": [
    "# get all relative non planarity info\n",
    "dominant_mode = relative_np[[c for c in relative_np.columns if not c == \"total\"]]\n",
    "# calculate the dominant mode\n",
    "dominant_mode[\"dominant\"] = dominant_mode.apply(lambda row: row.idxmax() if row.max() > 30 else \"undefined\", axis=1)\n",
    "dominant_mode[\"total\"] = relative_np[\"total\"]\n",
    "dominant_mode[\"dominant\"] = dominant_mode.apply(lambda row: row[\"dominant\"] if row[\"total\"] > 0.2 else \"planar\", axis=1)"
   ]
  },
  {
   "attachments": {},
   "cell_type": "markdown",
   "metadata": {},
   "source": [
    "basic statistics on HOMA scores of different dominant modes"
   ]
  },
  {
   "cell_type": "code",
   "execution_count": 187,
   "metadata": {},
   "outputs": [
    {
     "data": {
      "text/html": [
       "<div>\n",
       "<style scoped>\n",
       "    .dataframe tbody tr th:only-of-type {\n",
       "        vertical-align: middle;\n",
       "    }\n",
       "\n",
       "    .dataframe tbody tr th {\n",
       "        vertical-align: top;\n",
       "    }\n",
       "\n",
       "    .dataframe thead th {\n",
       "        text-align: right;\n",
       "    }\n",
       "</style>\n",
       "<table border=\"1\" class=\"dataframe\">\n",
       "  <thead>\n",
       "    <tr style=\"text-align: right;\">\n",
       "      <th></th>\n",
       "      <th>N</th>\n",
       "      <th>inner_homa</th>\n",
       "      <th>outer_homa</th>\n",
       "      <th>pyrrole_homa</th>\n",
       "      <th>inner_en</th>\n",
       "      <th>outer_en</th>\n",
       "      <th>pyrrole_en</th>\n",
       "      <th>inner_geo</th>\n",
       "      <th>outer_geo</th>\n",
       "      <th>pyrrole_geo</th>\n",
       "    </tr>\n",
       "  </thead>\n",
       "  <tbody>\n",
       "    <tr>\n",
       "      <th>ruffling</th>\n",
       "      <td>58</td>\n",
       "      <td>0.88</td>\n",
       "      <td>0.63</td>\n",
       "      <td>0.62</td>\n",
       "      <td>0.06</td>\n",
       "      <td>0.06</td>\n",
       "      <td>0.13</td>\n",
       "      <td>0.06</td>\n",
       "      <td>0.31</td>\n",
       "      <td>0.25</td>\n",
       "    </tr>\n",
       "    <tr>\n",
       "      <th>undefined</th>\n",
       "      <td>33</td>\n",
       "      <td>0.88</td>\n",
       "      <td>0.63</td>\n",
       "      <td>0.64</td>\n",
       "      <td>0.08</td>\n",
       "      <td>0.08</td>\n",
       "      <td>0.11</td>\n",
       "      <td>0.04</td>\n",
       "      <td>0.30</td>\n",
       "      <td>0.24</td>\n",
       "    </tr>\n",
       "    <tr>\n",
       "      <th>saddling</th>\n",
       "      <td>111</td>\n",
       "      <td>0.88</td>\n",
       "      <td>0.60</td>\n",
       "      <td>0.60</td>\n",
       "      <td>0.08</td>\n",
       "      <td>0.09</td>\n",
       "      <td>0.14</td>\n",
       "      <td>0.04</td>\n",
       "      <td>0.31</td>\n",
       "      <td>0.25</td>\n",
       "    </tr>\n",
       "    <tr>\n",
       "      <th>planar</th>\n",
       "      <td>69</td>\n",
       "      <td>0.90</td>\n",
       "      <td>0.63</td>\n",
       "      <td>0.62</td>\n",
       "      <td>0.07</td>\n",
       "      <td>0.07</td>\n",
       "      <td>0.13</td>\n",
       "      <td>0.04</td>\n",
       "      <td>0.30</td>\n",
       "      <td>0.26</td>\n",
       "    </tr>\n",
       "    <tr>\n",
       "      <th>wavingx</th>\n",
       "      <td>9</td>\n",
       "      <td>0.91</td>\n",
       "      <td>0.62</td>\n",
       "      <td>0.61</td>\n",
       "      <td>0.05</td>\n",
       "      <td>0.06</td>\n",
       "      <td>0.11</td>\n",
       "      <td>0.04</td>\n",
       "      <td>0.32</td>\n",
       "      <td>0.28</td>\n",
       "    </tr>\n",
       "    <tr>\n",
       "      <th>doming</th>\n",
       "      <td>32</td>\n",
       "      <td>0.87</td>\n",
       "      <td>0.67</td>\n",
       "      <td>0.67</td>\n",
       "      <td>0.09</td>\n",
       "      <td>0.07</td>\n",
       "      <td>0.12</td>\n",
       "      <td>0.04</td>\n",
       "      <td>0.25</td>\n",
       "      <td>0.21</td>\n",
       "    </tr>\n",
       "    <tr>\n",
       "      <th>wavingy</th>\n",
       "      <td>4</td>\n",
       "      <td>0.82</td>\n",
       "      <td>0.47</td>\n",
       "      <td>0.54</td>\n",
       "      <td>0.06</td>\n",
       "      <td>0.08</td>\n",
       "      <td>0.09</td>\n",
       "      <td>0.12</td>\n",
       "      <td>0.46</td>\n",
       "      <td>0.37</td>\n",
       "    </tr>\n",
       "    <tr>\n",
       "      <th>wavingx2</th>\n",
       "      <td>2</td>\n",
       "      <td>0.90</td>\n",
       "      <td>0.59</td>\n",
       "      <td>0.61</td>\n",
       "      <td>0.09</td>\n",
       "      <td>0.11</td>\n",
       "      <td>0.12</td>\n",
       "      <td>0.01</td>\n",
       "      <td>0.30</td>\n",
       "      <td>0.27</td>\n",
       "    </tr>\n",
       "  </tbody>\n",
       "</table>\n",
       "</div>"
      ],
      "text/plain": [
       "             N  inner_homa  outer_homa  pyrrole_homa  inner_en  outer_en  \\\n",
       "ruffling    58        0.88        0.63          0.62      0.06      0.06   \n",
       "undefined   33        0.88        0.63          0.64      0.08      0.08   \n",
       "saddling   111        0.88        0.60          0.60      0.08      0.09   \n",
       "planar      69        0.90        0.63          0.62      0.07      0.07   \n",
       "wavingx      9        0.91        0.62          0.61      0.05      0.06   \n",
       "doming      32        0.87        0.67          0.67      0.09      0.07   \n",
       "wavingy      4        0.82        0.47          0.54      0.06      0.08   \n",
       "wavingx2     2        0.90        0.59          0.61      0.09      0.11   \n",
       "\n",
       "           pyrrole_en  inner_geo  outer_geo  pyrrole_geo  \n",
       "ruffling         0.13       0.06       0.31         0.25  \n",
       "undefined        0.11       0.04       0.30         0.24  \n",
       "saddling         0.14       0.04       0.31         0.25  \n",
       "planar           0.13       0.04       0.30         0.26  \n",
       "wavingx          0.11       0.04       0.32         0.28  \n",
       "doming           0.12       0.04       0.25         0.21  \n",
       "wavingy          0.09       0.12       0.46         0.37  \n",
       "wavingx2         0.12       0.01       0.30         0.27  "
      ]
     },
     "execution_count": 187,
     "metadata": {},
     "output_type": "execute_result"
    }
   ],
   "source": [
    "index = []\n",
    "data = []\n",
    "for mode in dominant_mode[\"dominant\"].unique():\n",
    "    ids = dominant_mode[dominant_mode[\"dominant\"] == mode].index\n",
    "    d = {\n",
    "        \"N\": len(ids),\n",
    "        \"inner_homa\": homa_df.loc[ids, \"inner_circuit\"].mean(),\n",
    "        \"outer_homa\": homa_df.loc[ids, \"outer_circuit\"].mean(),\n",
    "        \"pyrrole_homa\": homa_df.loc[ids, \"pyrrole\"].mean(),\n",
    "        \"inner_en\": en_df.loc[ids, \"inner_circuit\"].mean(),\n",
    "        \"outer_en\": en_df.loc[ids, \"outer_circuit\"].mean(),\n",
    "        \"pyrrole_en\": en_df.loc[ids, \"pyrrole\"].mean(),\n",
    "        \"inner_geo\": geo_df.loc[ids, \"inner_circuit\"].mean(),\n",
    "        \"outer_geo\": geo_df.loc[ids, \"outer_circuit\"].mean(),\n",
    "        \"pyrrole_geo\": geo_df.loc[ids, \"pyrrole\"].mean()\n",
    "    }\n",
    "    data.append(d)\n",
    "    index.append(mode)\n",
    "res = pd.DataFrame(data, index=index)\n",
    "res = res.round(2)\n",
    "res"
   ]
  },
  {
   "cell_type": "code",
   "execution_count": null,
   "metadata": {},
   "outputs": [],
   "source": [
    "for mode in dominant_mode[\"dominant\"].unique():\n",
    "    ids = dominant_mode[dominant_mode[\"dominant\"] == mode].index\n",
    "    plt.figure()\n",
    "    scatter_plot(dominant_mode.loc[ids, \"total\"], homa_df.loc[ids, \"outer_circuit\"], xname=\"total out of plane\", yname=\"homa\", label=mode, add_fitted_line=True)\n",
    "    plt.legend()"
   ]
  },
  {
   "attachments": {},
   "cell_type": "markdown",
   "metadata": {},
   "source": [
    "## PCA visualizations"
   ]
  },
  {
   "cell_type": "code",
   "execution_count": 456,
   "metadata": {},
   "outputs": [],
   "source": [
    "from sklearn.decomposition import PCA"
   ]
  },
  {
   "cell_type": "code",
   "execution_count": 460,
   "metadata": {},
   "outputs": [
    {
     "name": "stderr",
     "output_type": "stream",
     "text": [
      "/home/shachar/miniconda3/envs/pymatgen/lib/python3.11/site-packages/sklearn/utils/validation.py:767: FutureWarning: is_sparse is deprecated and will be removed in a future version. Check `isinstance(dtype, pd.SparseDtype)` instead.\n",
      "  if not hasattr(array, \"sparse\") and array.dtypes.apply(is_sparse).any():\n",
      "/home/shachar/miniconda3/envs/pymatgen/lib/python3.11/site-packages/sklearn/utils/validation.py:605: FutureWarning: is_sparse is deprecated and will be removed in a future version. Check `isinstance(dtype, pd.SparseDtype)` instead.\n",
      "  if is_sparse(pd_dtype):\n",
      "/home/shachar/miniconda3/envs/pymatgen/lib/python3.11/site-packages/sklearn/utils/validation.py:614: FutureWarning: is_sparse is deprecated and will be removed in a future version. Check `isinstance(dtype, pd.SparseDtype)` instead.\n",
      "  if is_sparse(pd_dtype) or not is_extension_array_dtype(pd_dtype):\n"
     ]
    },
    {
     "data": {
      "text/plain": [
       "<matplotlib.colorbar.Colorbar at 0x7f7385d91550>"
      ]
     },
     "execution_count": 460,
     "metadata": {},
     "output_type": "execute_result"
    },
    {
     "data": {
      "image/png": "[encoded data removed]",
      "text/plain": [
       "<Figure size 640x480 with 2 Axes>"
      ]
     },
     "metadata": {},
     "output_type": "display_data"
    }
   ],
   "source": [
    "# PCA decomposition on absolute metrics\n",
    "model = PCA(n_components=2)\n",
    "pca = model.fit_transform(absolute_np)\n",
    "plt.scatter(pca[:, 0], pca[:, 1], c=homa_df[\"outer_circuit\"], alpha=1)\n",
    "plt.colorbar()"
   ]
  },
  {
   "cell_type": "code",
   "execution_count": 461,
   "metadata": {},
   "outputs": [
    {
     "data": {
      "text/plain": [
       "<matplotlib.legend.Legend at 0x7f7385f0a610>"
      ]
     },
     "execution_count": 461,
     "metadata": {},
     "output_type": "execute_result"
    },
    {
     "data": {
      "image/png": "[encoded data removed]",
      "text/plain": [
       "<Figure size 640x480 with 1 Axes>"
      ]
     },
     "metadata": {},
     "output_type": "display_data"
    }
   ],
   "source": [
    "# PCA color by dominant mode\n",
    "pca_df = pd.DataFrame(pca, index=absolute_np.index)\n",
    "for mode in dominant_mode[\"dominant\"].unique():\n",
    "    ids = dominant_mode[dominant_mode[\"dominant\"] == mode].index\n",
    "    plt.scatter(pca_df.loc[ids, 0], pca_df.loc[ids, 1], label=mode)\n",
    "plt.legend()"
   ]
  },
  {
   "cell_type": "code",
   "execution_count": null,
   "metadata": {},
   "outputs": [],
   "source": [
    "significance = pd.DataFrame(data=model.components_, columns=absolute_np.columns)\n",
    "significance"
   ]
  },
  {
   "attachments": {},
   "cell_type": "markdown",
   "metadata": {},
   "source": [
    "# Clustering Analysis"
   ]
  },
  {
   "attachments": {},
   "cell_type": "markdown",
   "metadata": {},
   "source": [
    "choosing clustering algorithm and number of clusters"
   ]
  },
  {
   "cell_type": "code",
   "execution_count": 232,
   "metadata": {},
   "outputs": [],
   "source": [
    "from sklearn.mixture import GaussianMixture\n",
    "from sklearn.cluster import DBSCAN, KMeans\n",
    "from sklearn.metrics import silhouette_score, davies_bouldin_score, calinski_harabasz_score"
   ]
  },
  {
   "cell_type": "code",
   "execution_count": null,
   "metadata": {},
   "outputs": [],
   "source": [
    "# nrange = np.linspace(0.1, 3, 15)\n",
    "nrange = range(2, 12)\n",
    "metrics = [silhouette_score, calinski_harabasz_score]\n",
    "X = absolute_np.to_numpy()\n",
    "dfs = []\n",
    "for _ in range(10):\n",
    "    scores = []\n",
    "    for n in nrange:\n",
    "        model = GaussianMixture(n_components=n)\n",
    "        labels = model.fit_predict(X)\n",
    "        ajr = {}\n",
    "        for score_func in metrics:\n",
    "            try:\n",
    "                ajr[score_func.__name__] = score_func(X, labels)\n",
    "            except ValueError:\n",
    "                ajr[score_func.__name__] = None\n",
    "        scores.append(ajr)\n",
    "    dfs.append(pd.DataFrame(scores, index=nrange))\n",
    "df = sum(dfs) / 10\n",
    "for col in df.columns:\n",
    "    plt.figure()\n",
    "    plt.plot(df.index, df[col])\n",
    "    plt.title(col)\n",
    "    plt.xticks(df.index)"
   ]
  },
  {
   "cell_type": "code",
   "execution_count": null,
   "metadata": {},
   "outputs": [],
   "source": [
    "for mode in dominant_mode[\"dominant\"].unique():\n",
    "    ids = dominant_mode[dominant_mode[\"dominant\"] == mode].index\n",
    "    plt.figure()\n",
    "    scatter_plot(dominant_mode.loc[ids, \"total\"], homa_df.loc[ids, \"outer_circuit\"], xname=\"total out of plane\", yname=\"homa\", label=mode, add_fitted_line=True)\n",
    "    plt.legend()"
   ]
  },
  {
   "attachments": {},
   "cell_type": "markdown",
   "metadata": {},
   "source": [
    "analyzing cluster contents"
   ]
  },
  {
   "cell_type": "code",
   "execution_count": 361,
   "metadata": {},
   "outputs": [],
   "source": [
    "def cluster_df(n_clusters, aromaticity_df, column_name):\n",
    "    model = GaussianMixture(n_components=n_clusters)\n",
    "    labels = model.fit_predict(X)\n",
    "    absolute_np[\"cluster\"] = labels\n",
    "    data = []\n",
    "    clusters = absolute_np[\"cluster\"].unique() \n",
    "    for cl in clusters:\n",
    "        ids = absolute_np[absolute_np[\"cluster\"] == cl].index\n",
    "        sample = aromaticity_df.loc[ids, column_name]\n",
    "        pvalue = p_value(sample, aromaticity_df[column_name])\n",
    "        d = {\"mean\": sample.mean(), \"N\": len(sample), \"p\": pvalue}\n",
    "        d.update(absolute_np.loc[ids, :].mean(axis=0).to_dict())\n",
    "        data.append(d)\n",
    "    df = pd.DataFrame(data, index=clusters)\n",
    "    return df[df[\"p\"] < 0.05]"
   ]
  },
  {
   "cell_type": "code",
   "execution_count": 405,
   "metadata": {},
   "outputs": [
    {
     "name": "stdout",
     "output_type": "stream",
     "text": [
      "Population mean: 0.6226415993343458\n"
     ]
    },
    {
     "data": {
      "text/html": [
       "<div>\n",
       "<style scoped>\n",
       "    .dataframe tbody tr th:only-of-type {\n",
       "        vertical-align: middle;\n",
       "    }\n",
       "\n",
       "    .dataframe tbody tr th {\n",
       "        vertical-align: top;\n",
       "    }\n",
       "\n",
       "    .dataframe thead th {\n",
       "        text-align: right;\n",
       "    }\n",
       "</style>\n",
       "<table border=\"1\" class=\"dataframe\">\n",
       "  <thead>\n",
       "    <tr style=\"text-align: right;\">\n",
       "      <th></th>\n",
       "      <th>mean</th>\n",
       "      <th>N</th>\n",
       "      <th>p</th>\n",
       "      <th>doming</th>\n",
       "      <th>saddling</th>\n",
       "      <th>ruffling</th>\n",
       "      <th>wavingx</th>\n",
       "      <th>wavingy</th>\n",
       "      <th>propellering</th>\n",
       "      <th>doming2</th>\n",
       "      <th>saddling2</th>\n",
       "      <th>ruffling2</th>\n",
       "      <th>wavingx2</th>\n",
       "      <th>propellering2</th>\n",
       "      <th>cluster</th>\n",
       "    </tr>\n",
       "  </thead>\n",
       "  <tbody>\n",
       "    <tr>\n",
       "      <th>8</th>\n",
       "      <td>0.546183</td>\n",
       "      <td>13</td>\n",
       "      <td>0.020528</td>\n",
       "      <td>-0.029717</td>\n",
       "      <td>2.292750</td>\n",
       "      <td>0.131388</td>\n",
       "      <td>0.009327</td>\n",
       "      <td>-0.052579</td>\n",
       "      <td>0.014419</td>\n",
       "      <td>0.035751</td>\n",
       "      <td>0.286583</td>\n",
       "      <td>-0.020584</td>\n",
       "      <td>0.017023</td>\n",
       "      <td>0.013897</td>\n",
       "      <td>8.0</td>\n",
       "    </tr>\n",
       "    <tr>\n",
       "      <th>7</th>\n",
       "      <td>0.387425</td>\n",
       "      <td>5</td>\n",
       "      <td>0.000010</td>\n",
       "      <td>-0.046841</td>\n",
       "      <td>-3.237749</td>\n",
       "      <td>-0.127024</td>\n",
       "      <td>-0.066143</td>\n",
       "      <td>-0.097380</td>\n",
       "      <td>-0.003661</td>\n",
       "      <td>0.013323</td>\n",
       "      <td>-0.376749</td>\n",
       "      <td>-0.015379</td>\n",
       "      <td>0.010878</td>\n",
       "      <td>-0.004283</td>\n",
       "      <td>7.0</td>\n",
       "    </tr>\n",
       "  </tbody>\n",
       "</table>\n",
       "</div>"
      ],
      "text/plain": [
       "       mean   N         p    doming  saddling  ruffling   wavingx   wavingy  \\\n",
       "8  0.546183  13  0.020528 -0.029717  2.292750  0.131388  0.009327 -0.052579   \n",
       "7  0.387425   5  0.000010 -0.046841 -3.237749 -0.127024 -0.066143 -0.097380   \n",
       "\n",
       "   propellering   doming2  saddling2  ruffling2  wavingx2  propellering2  \\\n",
       "8      0.014419  0.035751   0.286583  -0.020584  0.017023       0.013897   \n",
       "7     -0.003661  0.013323  -0.376749  -0.015379  0.010878      -0.004283   \n",
       "\n",
       "   cluster  \n",
       "8      8.0  \n",
       "7      7.0  "
      ]
     },
     "execution_count": 405,
     "metadata": {},
     "output_type": "execute_result"
    }
   ],
   "source": [
    "prop = \"outer_circuit\"\n",
    "print(\"Population mean:\", homa_df[\"outer_circuit\"].mean())\n",
    "cluster_df(10, homa_df, \"outer_circuit\")"
   ]
  },
  {
   "cell_type": "code",
   "execution_count": null,
   "metadata": {},
   "outputs": [],
   "source": []
  },
  {
   "cell_type": "code",
   "execution_count": null,
   "metadata": {},
   "outputs": [],
   "source": []
  }
 ],
 "metadata": {
  "kernelspec": {
   "display_name": "pymatgen",
   "language": "python",
   "name": "python3"
  },
  "language_info": {
   "codemirror_mode": {
    "name": "ipython",
    "version": 3
   },
   "file_extension": ".py",
   "mimetype": "text/x-python",
   "name": "python",
   "nbconvert_exporter": "python",
   "pygments_lexer": "ipython3",
   "version": "3.11.6"
  },
  "orig_nbformat": 4,
  "vscode": {
   "interpreter": {
    "hash": "ad47c4e099b541291f499c5bf8512199bb2680d96540a4cd98ae6a565719d592"
   }
  }
 },
 "nbformat": 4,
 "nbformat_minor": 2
}
